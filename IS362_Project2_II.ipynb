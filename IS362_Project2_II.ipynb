{
 "cells": [
  {
   "cell_type": "markdown",
   "metadata": {},
   "source": [
    "# IS 362 - Project 2 - Part II\n",
    "## Religion and Income Survey\n"
   ]
  },
  {
   "cell_type": "code",
   "execution_count": 11,
   "metadata": {
    "scrolled": false
   },
   "outputs": [
    {
     "data": {
      "text/html": [
       "<div>\n",
       "<style scoped>\n",
       "    .dataframe tbody tr th:only-of-type {\n",
       "        vertical-align: middle;\n",
       "    }\n",
       "\n",
       "    .dataframe tbody tr th {\n",
       "        vertical-align: top;\n",
       "    }\n",
       "\n",
       "    .dataframe thead th {\n",
       "        text-align: right;\n",
       "    }\n",
       "</style>\n",
       "<table border=\"1\" class=\"dataframe\">\n",
       "  <thead>\n",
       "    <tr style=\"text-align: right;\">\n",
       "      <th></th>\n",
       "      <th>religion</th>\n",
       "      <th>&lt;10k</th>\n",
       "      <th>10-20k</th>\n",
       "      <th>20-30k</th>\n",
       "      <th>30-40k</th>\n",
       "      <th>40-50k</th>\n",
       "      <th>50-75k</th>\n",
       "      <th>75-100k</th>\n",
       "      <th>100-150k</th>\n",
       "      <th>&gt;150k</th>\n",
       "      <th>refused</th>\n",
       "    </tr>\n",
       "  </thead>\n",
       "  <tbody>\n",
       "    <tr>\n",
       "      <td>0</td>\n",
       "      <td>Agnostic</td>\n",
       "      <td>27</td>\n",
       "      <td>34</td>\n",
       "      <td>60</td>\n",
       "      <td>81</td>\n",
       "      <td>76</td>\n",
       "      <td>137</td>\n",
       "      <td>122</td>\n",
       "      <td>109</td>\n",
       "      <td>84</td>\n",
       "      <td>96</td>\n",
       "    </tr>\n",
       "    <tr>\n",
       "      <td>1</td>\n",
       "      <td>Atheist</td>\n",
       "      <td>12</td>\n",
       "      <td>27</td>\n",
       "      <td>37</td>\n",
       "      <td>52</td>\n",
       "      <td>35</td>\n",
       "      <td>70</td>\n",
       "      <td>73</td>\n",
       "      <td>59</td>\n",
       "      <td>74</td>\n",
       "      <td>76</td>\n",
       "    </tr>\n",
       "    <tr>\n",
       "      <td>2</td>\n",
       "      <td>Buddist</td>\n",
       "      <td>27</td>\n",
       "      <td>21</td>\n",
       "      <td>30</td>\n",
       "      <td>34</td>\n",
       "      <td>33</td>\n",
       "      <td>58</td>\n",
       "      <td>62</td>\n",
       "      <td>39</td>\n",
       "      <td>53</td>\n",
       "      <td>54</td>\n",
       "    </tr>\n",
       "    <tr>\n",
       "      <td>3</td>\n",
       "      <td>Catholic</td>\n",
       "      <td>418</td>\n",
       "      <td>617</td>\n",
       "      <td>732</td>\n",
       "      <td>670</td>\n",
       "      <td>638</td>\n",
       "      <td>1116</td>\n",
       "      <td>949</td>\n",
       "      <td>792</td>\n",
       "      <td>633</td>\n",
       "      <td>1489</td>\n",
       "    </tr>\n",
       "    <tr>\n",
       "      <td>4</td>\n",
       "      <td>refused</td>\n",
       "      <td>15</td>\n",
       "      <td>14</td>\n",
       "      <td>15</td>\n",
       "      <td>11</td>\n",
       "      <td>10</td>\n",
       "      <td>35</td>\n",
       "      <td>21</td>\n",
       "      <td>17</td>\n",
       "      <td>18</td>\n",
       "      <td>116</td>\n",
       "    </tr>\n",
       "  </tbody>\n",
       "</table>\n",
       "</div>"
      ],
      "text/plain": [
       "   religion  <10k  10-20k  20-30k  30-40k  40-50k  50-75k  75-100k  100-150k  \\\n",
       "0  Agnostic    27      34      60      81      76     137      122       109   \n",
       "1   Atheist    12      27      37      52      35      70       73        59   \n",
       "2   Buddist    27      21      30      34      33      58       62        39   \n",
       "3  Catholic   418     617     732     670     638    1116      949       792   \n",
       "4   refused    15      14      15      11      10      35       21        17   \n",
       "\n",
       "   >150k  refused  \n",
       "0     84       96  \n",
       "1     74       76  \n",
       "2     53       54  \n",
       "3    633     1489  \n",
       "4     18      116  "
      ]
     },
     "execution_count": 11,
     "metadata": {},
     "output_type": "execute_result"
    }
   ],
   "source": [
    "import pandas as pd\n",
    "import numpy as np\n",
    "import matplotlib.pyplot as plt\n",
    "\n",
    "df = pd.read_csv('religion.csv', engine='python')\n",
    "df"
   ]
  },
  {
   "cell_type": "markdown",
   "metadata": {},
   "source": [
    "First, I changed the frequency into percentages so that we can compare the data."
   ]
  },
  {
   "cell_type": "code",
   "execution_count": 5,
   "metadata": {
    "scrolled": true
   },
   "outputs": [
    {
     "name": "stdout",
     "output_type": "stream",
     "text": [
      "   religion      <10k    10-20k    20-30k    30-40k    40-50k    50-75k  \\\n",
      "0  Agnostic  0.032688  0.041162  0.072639  0.098063  0.092010  0.165860   \n",
      "1   Atheist  0.023301  0.052427  0.071845  0.100971  0.067961  0.135922   \n",
      "2   Buddist  0.065693  0.051095  0.072993  0.082725  0.080292  0.141119   \n",
      "3  Catholic  0.051900  0.076608  0.090887  0.083188  0.079215  0.138565   \n",
      "4   refused  0.055147  0.051471  0.055147  0.040441  0.036765  0.128676   \n",
      "\n",
      "    75-100k  100-150k     >150k   refused  \n",
      "0  0.147700  0.131961  0.101695  0.116223  \n",
      "1  0.141748  0.114563  0.143689  0.147573  \n",
      "2  0.150852  0.094891  0.128954  0.131387  \n",
      "3  0.117830  0.098336  0.078594  0.184877  \n",
      "4  0.077206  0.062500  0.066176  0.426471  \n"
     ]
    }
   ],
   "source": [
    "df = df.set_index('religion')\n",
    "res = df.div(df.sum(axis=1), axis=0)\n",
    "\n",
    "print(res.reset_index())"
   ]
  },
  {
   "cell_type": "markdown",
   "metadata": {},
   "source": [
    "Then, I rounded the values to four decimal points and multiplied by 100 to get percantage values."
   ]
  },
  {
   "cell_type": "code",
   "execution_count": 10,
   "metadata": {
    "scrolled": true
   },
   "outputs": [
    {
     "data": {
      "text/html": [
       "<div>\n",
       "<style scoped>\n",
       "    .dataframe tbody tr th:only-of-type {\n",
       "        vertical-align: middle;\n",
       "    }\n",
       "\n",
       "    .dataframe tbody tr th {\n",
       "        vertical-align: top;\n",
       "    }\n",
       "\n",
       "    .dataframe thead th {\n",
       "        text-align: right;\n",
       "    }\n",
       "</style>\n",
       "<table border=\"1\" class=\"dataframe\">\n",
       "  <thead>\n",
       "    <tr style=\"text-align: right;\">\n",
       "      <th></th>\n",
       "      <th>&lt;10k</th>\n",
       "      <th>10-20k</th>\n",
       "      <th>20-30k</th>\n",
       "      <th>30-40k</th>\n",
       "      <th>40-50k</th>\n",
       "      <th>50-75k</th>\n",
       "      <th>75-100k</th>\n",
       "      <th>100-150k</th>\n",
       "      <th>&gt;150k</th>\n",
       "      <th>refused</th>\n",
       "    </tr>\n",
       "    <tr>\n",
       "      <th>religion</th>\n",
       "      <th></th>\n",
       "      <th></th>\n",
       "      <th></th>\n",
       "      <th></th>\n",
       "      <th></th>\n",
       "      <th></th>\n",
       "      <th></th>\n",
       "      <th></th>\n",
       "      <th></th>\n",
       "      <th></th>\n",
       "    </tr>\n",
       "  </thead>\n",
       "  <tbody>\n",
       "    <tr>\n",
       "      <td>Agnostic</td>\n",
       "      <td>3.27</td>\n",
       "      <td>4.12</td>\n",
       "      <td>7.26</td>\n",
       "      <td>9.81</td>\n",
       "      <td>9.20</td>\n",
       "      <td>16.59</td>\n",
       "      <td>14.77</td>\n",
       "      <td>13.20</td>\n",
       "      <td>10.17</td>\n",
       "      <td>11.62</td>\n",
       "    </tr>\n",
       "    <tr>\n",
       "      <td>Atheist</td>\n",
       "      <td>2.33</td>\n",
       "      <td>5.24</td>\n",
       "      <td>7.18</td>\n",
       "      <td>10.10</td>\n",
       "      <td>6.80</td>\n",
       "      <td>13.59</td>\n",
       "      <td>14.17</td>\n",
       "      <td>11.46</td>\n",
       "      <td>14.37</td>\n",
       "      <td>14.76</td>\n",
       "    </tr>\n",
       "    <tr>\n",
       "      <td>Buddist</td>\n",
       "      <td>6.57</td>\n",
       "      <td>5.11</td>\n",
       "      <td>7.30</td>\n",
       "      <td>8.27</td>\n",
       "      <td>8.03</td>\n",
       "      <td>14.11</td>\n",
       "      <td>15.09</td>\n",
       "      <td>9.49</td>\n",
       "      <td>12.90</td>\n",
       "      <td>13.14</td>\n",
       "    </tr>\n",
       "    <tr>\n",
       "      <td>Catholic</td>\n",
       "      <td>5.19</td>\n",
       "      <td>7.66</td>\n",
       "      <td>9.09</td>\n",
       "      <td>8.32</td>\n",
       "      <td>7.92</td>\n",
       "      <td>13.86</td>\n",
       "      <td>11.78</td>\n",
       "      <td>9.83</td>\n",
       "      <td>7.86</td>\n",
       "      <td>18.49</td>\n",
       "    </tr>\n",
       "    <tr>\n",
       "      <td>refused</td>\n",
       "      <td>5.51</td>\n",
       "      <td>5.15</td>\n",
       "      <td>5.51</td>\n",
       "      <td>4.04</td>\n",
       "      <td>3.68</td>\n",
       "      <td>12.87</td>\n",
       "      <td>7.72</td>\n",
       "      <td>6.25</td>\n",
       "      <td>6.62</td>\n",
       "      <td>42.65</td>\n",
       "    </tr>\n",
       "  </tbody>\n",
       "</table>\n",
       "</div>"
      ],
      "text/plain": [
       "          <10k  10-20k  20-30k  30-40k  40-50k  50-75k  75-100k  100-150k  \\\n",
       "religion                                                                    \n",
       "Agnostic  3.27    4.12    7.26    9.81    9.20   16.59    14.77     13.20   \n",
       "Atheist   2.33    5.24    7.18   10.10    6.80   13.59    14.17     11.46   \n",
       "Buddist   6.57    5.11    7.30    8.27    8.03   14.11    15.09      9.49   \n",
       "Catholic  5.19    7.66    9.09    8.32    7.92   13.86    11.78      9.83   \n",
       "refused   5.51    5.15    5.51    4.04    3.68   12.87     7.72      6.25   \n",
       "\n",
       "          >150k  refused  \n",
       "religion                  \n",
       "Agnostic  10.17    11.62  \n",
       "Atheist   14.37    14.76  \n",
       "Buddist   12.90    13.14  \n",
       "Catholic   7.86    18.49  \n",
       "refused    6.62    42.65  "
      ]
     },
     "execution_count": 10,
     "metadata": {},
     "output_type": "execute_result"
    }
   ],
   "source": [
    "res.round(4)*100"
   ]
  },
  {
   "cell_type": "code",
   "execution_count": 16,
   "metadata": {},
   "outputs": [
    {
     "data": {
      "text/plain": [
       "Text(0, 0.5, 'Percentage')"
      ]
     },
     "execution_count": 16,
     "metadata": {},
     "output_type": "execute_result"
    },
    {
     "data": {
      "image/png": "[encoded data removed]",
      "text/plain": [
       "<Figure size 648x504 with 1 Axes>"
      ]
     },
     "metadata": {
      "needs_background": "light"
     },
     "output_type": "display_data"
    }
   ],
   "source": [
    "my_plot = res.plot(kind='bar',title=\"Religion and Income\",figsize=(9, 7))\n",
    "my_plot.set_xlabel(\"Religion\")\n",
    "my_plot.set_ylabel(\"Percentage\")"
   ]
  },
  {
   "cell_type": "markdown",
   "metadata": {},
   "source": [
    "## Conclusion\n",
    "\n",
    "From this graph, we can see that an overwhelming percentage of people refused to provide their religion or income bracket. Setting aside the number of refused answers, Agnostics, Buddists, and Catholics had the highest income level of 50-75k, while Atheists had the highest percentage of >150k."
   ]
  }
 ],
 "metadata": {
  "kernelspec": {
   "display_name": "Python 3",
   "language": "python",
   "name": "python3"
  },
  "language_info": {
   "codemirror_mode": {
    "name": "ipython",
    "version": 3
   },
   "file_extension": ".py",
   "mimetype": "text/x-python",
   "name": "python",
   "nbconvert_exporter": "python",
   "pygments_lexer": "ipython3",
   "version": "3.7.4"
  }
 },
 "nbformat": 4,
 "nbformat_minor": 2
}
